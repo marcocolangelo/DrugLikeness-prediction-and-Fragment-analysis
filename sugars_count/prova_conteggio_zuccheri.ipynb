{
 "cells": [
  {
   "cell_type": "code",
   "execution_count": 1,
   "metadata": {},
   "outputs": [],
   "source": [
    "from rdkit import Chem\n",
    "from rdkit.Chem import Draw\n",
    "import pandas as pd"
   ]
  },
  {
   "cell_type": "code",
   "execution_count": 2,
   "metadata": {},
   "outputs": [
    {
     "name": "stdout",
     "output_type": "stream",
     "text": [
      "Matched with mono saccharide\n"
     ]
    },
    {
     "ename": "NameError",
     "evalue": "name 'count_glucose_groups' is not defined",
     "output_type": "error",
     "traceback": [
      "\u001b[1;31m---------------------------------------------------------------------------\u001b[0m",
      "\u001b[1;31mNameError\u001b[0m                                 Traceback (most recent call last)",
      "Cell \u001b[1;32mIn[2], line 42\u001b[0m\n\u001b[0;32m     40\u001b[0m mol \u001b[38;5;241m=\u001b[39m Chem\u001b[38;5;241m.\u001b[39mMolFromSmiles(smiles)\n\u001b[0;32m     41\u001b[0m img \u001b[38;5;241m=\u001b[39m Draw\u001b[38;5;241m.\u001b[39mMolToImage(mol)\n\u001b[1;32m---> 42\u001b[0m num_glucose_groups \u001b[38;5;241m=\u001b[39m \u001b[43mcount_glucose_groups\u001b[49m(mol)\n\u001b[0;32m     43\u001b[0m \u001b[38;5;28mprint\u001b[39m(\u001b[38;5;124mf\u001b[39m\u001b[38;5;124m\"\u001b[39m\u001b[38;5;124mNumero di gruppi zuccherini: \u001b[39m\u001b[38;5;132;01m{\u001b[39;00mnum_glucose_groups\u001b[38;5;132;01m}\u001b[39;00m\u001b[38;5;124m\"\u001b[39m)\n\u001b[0;32m     44\u001b[0m \u001b[38;5;66;03m#img.show()\u001b[39;00m\n",
      "\u001b[1;31mNameError\u001b[0m: name 'count_glucose_groups' is not defined"
     ]
    }
   ],
   "source": [
    "# Definizione di SMARTS per i monosaccaridi (glucosio come esempio)\n",
    "# Definire SMARTS per Zuccheri generici\n",
    "SugarSmarts = [\n",
    "    '[CX4H1][CX4H1][CX4H1](O)[CX4H1](O)[CX4H1](O)',  # Struttura generica di un monosaccaride\n",
    "    '[CX4H2][CX4H][CX4H](O)[CX4H](O)[CX4H](O)O[CX4H2][CX4H][CX4H](O)[CX4H](O)[CX4H](O) ',  # Struttura generica di un disaccaride\n",
    "    '[CX4H2][CX4H][CX4H](O)[CX4H](O)[CX4H](O)O[CX4H2][CX4H][CX4H](O)[CX4H](O)[CX4H](O)O[CX4H2][CX4H][CX4H](O)[CX4H](O)[CX4H](O)',               # Struttura generica di un trisaccaride\n",
    "    '[CX4H2][CX4H][CX4H](O)[CX4H](O)[CX4H](O)O[CX4H2][CX4H][CX4H](O)[CX4H](O)[CX4H](O)O[CX4H2][CX4H][CX4H](O)[CX4H](O)[CX4H](O)O[CX4H2][CX4H][CX4H](O)[CX4H](O)[CX4H](O)',        # Struttura generica di un tetrasaccaride\n",
    "\n",
    "    # Aggiungere altre varianti se necessario\n",
    "]\n",
    "\n",
    "Sugars = [Chem.MolFromSmarts(smarts) for smarts in SugarSmarts]\n",
    "\n",
    "\n",
    "# Definire SMARTS per Zuccheri generici\n",
    "#SugarSmarts = Chem.MolFromSmarts('[CX4H2][CX4H][CX4H](O)[CX4H](O)[CX4H](O)')  # Rappresentazione generica di un monosaccaride\n",
    "\n",
    "\n",
    "# Esempio di calcolo\n",
    "smiles = \"C(C1C(C(C(C(O1)O)O)O)O)O\"\n",
    "mol = Chem.MolFromSmiles(smiles)\n",
    "img = Draw.MolToImage(mol)\n",
    "matches = mol.GetSubstructMatches(Sugars[0])\n",
    "if len(matches) > 0:\n",
    "    print(\"Matched with mono saccharide\")\n",
    "else:\n",
    "    matches = mol.GetSubstructMatches(Sugars[2])\n",
    "    if len(matches) > 0:\n",
    "        print(\"Matched with tri saccharide\")\n",
    "    else:\n",
    "        matches = mol.GetSubstructMatches(Sugars[3])\n",
    "        if len(matches) > 0:\n",
    "            print(\"Matched with tetra saccharide\")\n",
    "        else:\n",
    "            print(\"No saccharide match found\")\n",
    "#img.show()\n",
    "\n",
    "# Esempio di calcolo\n",
    "smiles = \"C(C1C(C(C(C(O1)O)O)O)O)O\"\n",
    "mol = Chem.MolFromSmiles(smiles)\n",
    "img = Draw.MolToImage(mol)\n",
    "num_glucose_groups = count_glucose_groups(mol)\n",
    "print(f\"Numero di gruppi zuccherini: {num_glucose_groups}\")\n",
    "#img.show()"
   ]
  },
  {
   "cell_type": "markdown",
   "metadata": {},
   "source": [
    "# NON FUNZIONA ANCORAAAAAAAAAAAAAAAAAAAAAA"
   ]
  },
  {
   "cell_type": "code",
   "execution_count": 21,
   "metadata": {},
   "outputs": [
    {
     "name": "stdout",
     "output_type": "stream",
     "text": [
      "SMARTS: [#6](:,-[#6]:,-[#6]:,-[#6]-[#6]-[#8]-[#6]-[#6](-[#6](-[#6]-[#8])-[#8])-[#8]):,-[#6]:,-[#6]\n"
     ]
    },
    {
     "data": {
      "image/jpeg": "[encoded data removed]",
      "image/png": "[encoded data removed]",
      "text/plain": [
       "<PIL.PngImagePlugin.PngImageFile image mode=RGB size=300x300>"
      ]
     },
     "metadata": {},
     "output_type": "display_data"
    }
   ],
   "source": [
    "from rdkit import Chem\n",
    "from rdkit.Chem import Draw\n",
    "from rdkit.Chem import rdFMCS\n",
    "from IPython.display import display\n",
    "\n",
    "# Define test cases\n",
    "test_cases = [\n",
    "    \"C1OC(CO)C(O)C(O)C1OCC2OC(CO)C(O)C(O)C2O\",  # Lattosio\n",
    "    \"C1=CC=C(C=C1)COC2C(C(C(C(O2)CO)O)O)O\",  # Salicin\n",
    "    \"C1=CC2=C(C(=O)OC=C2COC3C(C(C(C(O3)CO)O)O)O)C=C1\",  # Esculin\n",
    "    \"C1=CC(=CC=C1COC2C(C(C(C(O2)CO)O)O)O)O\",  # Arbutin\n",
    "    \"CC1CCC2(C1(CCC3C2CC(C4C3(CCC(C4(C(=O)O)O)O)C(C5C(C(C(C(O5)CO)O)O)O)O)O)C)C(=O)O\"  # Additional test case with 4 sugar groups\n",
    "]\n",
    "\n",
    "# Convert SMILES to RDKit Mol objects\n",
    "molecules = [Chem.MolFromSmiles(smiles) for smiles in test_cases]\n",
    "\n",
    "# Set up MCS parameters to preserve ring structures more strictly\n",
    "mcs_params = rdFMCS.MCSParameters()\n",
    "mcs_params.AtomCompare = rdFMCS.AtomCompare.CompareElements\n",
    "mcs_params.BondCompare = rdFMCS.BondCompare.CompareOrder\n",
    "mcs_params.RingMatchesRingOnly = True\n",
    "mcs_params.Threshold = 1.0\n",
    "\n",
    "# Find the Maximum Common Substructure (MCS)\n",
    "mcs_result = rdFMCS.FindMCS(molecules, parameters=mcs_params)\n",
    "mcs_smarts = mcs_result.smartsString\n",
    "mcs_mol = Chem.MolFromSmarts(mcs_smarts)\n",
    "\n",
    "# Draw and display the MCS\n",
    "img = Draw.MolToImage(mcs_mol)\n",
    "smiles = Chem.MolToSmiles(mcs_mol)\n",
    "print(f\"SMARTS: {mcs_smarts}\")\n",
    "display(img)\n"
   ]
  },
  {
   "cell_type": "code",
   "execution_count": 61,
   "metadata": {},
   "outputs": [
    {
     "name": "stdout",
     "output_type": "stream",
     "text": [
      "SMILES: C([C@@H]1[C@@H]([C@@H]([C@H]([C@@H](O1)O[C@@H]2[C@H](O[C@H]([C@@H]([C@H]2O)O)O)CO)O)O)O)O\n",
      "  Expected: 2\n",
      "  Found: 0\n",
      "  Match Type: No registered converter was able to produce a C++ rvalue of type class std::basic_string<wchar_t,struct std::char_traits<wchar_t>,class std::allocator<wchar_t> > from this Python object of type Mol\n",
      "\n",
      "\n",
      "SMILES: C1=CC=C(C=C1)COC2C(C(C(C(O2)CO)O)O)O\n",
      "  Expected: 1\n",
      "  Found: 0\n",
      "  Match Type: No registered converter was able to produce a C++ rvalue of type class std::basic_string<wchar_t,struct std::char_traits<wchar_t>,class std::allocator<wchar_t> > from this Python object of type Mol\n",
      "\n",
      "\n",
      "SMILES: C1=CC2=C(C(=O)OC=C2COC3C(C(C(C(O3)CO)O)O)O)C=C1\n",
      "  Expected: 1\n",
      "  Found: 0\n",
      "  Match Type: No registered converter was able to produce a C++ rvalue of type class std::basic_string<wchar_t,struct std::char_traits<wchar_t>,class std::allocator<wchar_t> > from this Python object of type Mol\n",
      "\n",
      "\n",
      "SMILES: C1=CC(=CC=C1COC2C(C(C(C(O2)CO)O)O)O)O\n",
      "  Expected: 1\n",
      "  Found: 0\n",
      "  Match Type: No registered converter was able to produce a C++ rvalue of type class std::basic_string<wchar_t,struct std::char_traits<wchar_t>,class std::allocator<wchar_t> > from this Python object of type Mol\n",
      "\n",
      "\n",
      "SMILES: O([C@H]1[C@H](O)[C@@H](O)C(O)O[C@@H]1CO)[C@H]2O[C@@H]([C@@H](O)[C@H](O)[C@H]2O)CO\n",
      "  Expected: 2\n",
      "  Found: 0\n",
      "  Match Type: No registered converter was able to produce a C++ rvalue of type class std::basic_string<wchar_t,struct std::char_traits<wchar_t>,class std::allocator<wchar_t> > from this Python object of type Mol\n",
      "\n",
      "\n",
      "SMILES: CC1CCC2(C1(CCC3C2CC(C4C3(CCC(C4(C(=O)O)O)O)C(C5C(C(C(C(O5)CO)O)O)O)O)O)C)C(=O)O\n",
      "  Expected: 4\n",
      "  Found: 0\n",
      "  Match Type: No registered converter was able to produce a C++ rvalue of type class std::basic_string<wchar_t,struct std::char_traits<wchar_t>,class std::allocator<wchar_t> > from this Python object of type Mol\n",
      "\n",
      "\n",
      "SMILES: CC(=O)N[C@@H]1[C@H]([C@@H]([C@H](O[C@H]1O[C@H]2[C@H]([C@H](O[C@H]([C@@H]2O)O[C@@H]3[C@H](OC([C@@H]([C@H]3O)O)O)CO)CO)O)CO)O)O[C@H]4[C@@H]([C@H]([C@H]([C@H](O4)CO)O)O)O\n",
      "  Expected: 4\n",
      "  Found: 0\n",
      "  Match Type: No registered converter was able to produce a C++ rvalue of type class std::basic_string<wchar_t,struct std::char_traits<wchar_t>,class std::allocator<wchar_t> > from this Python object of type Mol\n",
      "\n",
      "\n"
     ]
    }
   ],
   "source": [
    "from rdkit import Chem\n",
    "\n",
    "# Definire le rappresentazioni SMARTS per identificare i gruppi zucchero in forma ciclica\n",
    "GlucoseSmarts = Chem.MolFromSmarts(' C([C@@H]1[C@H]([C@@H]([C@H]([C@H](O1)O)O)O)O)O')  # Ciclo di glucosio\n",
    "lactose = Chem.MolFromSmiles(\"C([C@@H]1[C@@H]([C@@H]([C@H]([C@@H](O1)O[C@@H]2[C@H](O[C@H]([C@@H]([C@H]2O)O)O)CO)O)O)O)O\")\n",
    "monosaccharides_smarts = {\n",
    "    \"alfa-glucose\": \"C([C@@H]1[C@H]([C@@H]([C@H]([C@H](O1)O)O)O)O)O\",\n",
    "    \"fructose\": \"O[C@H]1[C@H](O)[C@H](O[C@]1(O)CO)CO\",\n",
    "    \"ribose\": \"C(C(C(C(C=O)O)O)O)\",\n",
    "    \"ribulosio\": \"C(C(C(C(=O)CO)O)O)O\",\n",
    "    \"griceraldeide\": \"O=CC(CO)O\",\n",
    "    \"Diidrossiacetone \": \"O=C(CO)CO\",\n",
    "          \n",
    "}\n",
    "\n",
    "# img = Draw.MolToImage(lactose)\n",
    "# print(\"Lattosio\")\n",
    "# display(img)\n",
    "def count_glucose_groups(smiles):\n",
    "    found = 0\n",
    "    try:\n",
    "        molecule = Chem.MolFromSmiles(smiles)\n",
    "        if molecule is None:\n",
    "            raise ValueError(\"Invalid SMILES string provided.\")\n",
    "        \n",
    "        glucose_matches = molecule.GetSubstructMatches(GlucoseSmarts)\n",
    "        lactose_matches = molecule.GetSubstructMatches(lactose)\n",
    "        for key, value in monosaccharides_smarts.items():\n",
    "            monosaccharide = Chem.MolFromSmiles(value)\n",
    "            matches = molecule.GetSubstructMatches(monosaccharide)\n",
    "            found += len(matches)\n",
    "        if found > 0:\n",
    "            return (\"Monosaccaride\", found)\n",
    "        return (\"Lactose\", len(lactose_matches)) if len(lactose_matches) > 0 else (\"Glucose\", len(glucose_matches))\n",
    "    except Exception as e:\n",
    "        return str(e), 0\n",
    "\n",
    "# Definizione dei test\n",
    "test_cases = [\n",
    "    (\"C([C@@H]1[C@@H]([C@@H]([C@H]([C@@H](O1)O[C@@H]2[C@H](O[C@H]([C@@H]([C@H]2O)O)O)CO)O)O)O)O\", 2),  # Lattosio\n",
    "    (\"C1=CC=C(C=C1)COC2C(C(C(C(O2)CO)O)O)O\", 1),  # Salicin\n",
    "    (\"C1=CC2=C(C(=O)OC=C2COC3C(C(C(C(O3)CO)O)O)O)C=C1\", 1),  # Esculin\n",
    "    (\"C1=CC(=CC=C1COC2C(C(C(C(O2)CO)O)O)O)O\", 1),  # Arbutin\n",
    "    (\"O([C@H]1[C@H](O)[C@@H](O)C(O)O[C@@H]1CO)[C@H]2O[C@@H]([C@@H](O)[C@H](O)[C@H]2O)CO\", 2),  # Maltose\n",
    "    (\"CC1CCC2(C1(CCC3C2CC(C4C3(CCC(C4(C(=O)O)O)O)C(C5C(C(C(C(O5)CO)O)O)O)O)O)C)C(=O)O\", 4),  # Additional test case with 4 sugar groups\n",
    "    (\"CC(=O)N[C@@H]1[C@H]([C@@H]([C@H](O[C@H]1O[C@H]2[C@H]([C@H](O[C@H]([C@@H]2O)O[C@@H]3[C@H](OC([C@@H]([C@H]3O)O)O)CO)CO)O)CO)O)O[C@H]4[C@@H]([C@H]([C@H]([C@H](O4)CO)O)O)O\",4) #Taxol \n",
    "]\n",
    "\n",
    "# per ogni molecola mostrane l'immagine\n",
    "# for smiles, expected in test_cases:\n",
    "#     mol = Chem.MolFromSmiles(smiles)\n",
    "#     if mol is None:\n",
    "#         continue\n",
    "#     print(f\"SMILES: {smiles}\")\n",
    "#     img = Draw.MolToImage(mol)\n",
    "#     display(img)\n",
    "\n",
    "\n",
    "# Esecuzione dei test\n",
    "results = {}\n",
    "for smiles, expected in test_cases:\n",
    "    match_type, match_count = count_glucose_groups(smiles)\n",
    "    results[smiles] = {\"Expected\": expected, \"Found\": match_count, \"Match Type\": match_type}\n",
    "\n",
    "# Stampa dei risultati\n",
    "for smiles, result in results.items():\n",
    "    print(f\"SMILES: {smiles}\")\n",
    "    for key, value in result.items():\n",
    "        print(f\"  {key}: {value}\")\n",
    "    print(\"\\n\")\n"
   ]
  },
  {
   "cell_type": "code",
   "execution_count": 86,
   "metadata": {},
   "outputs": [
    {
     "name": "stdout",
     "output_type": "stream",
     "text": [
      "SMILES standardizzato: ['CC(=O)N[C@@H]1[C@@H](O)[C@H](O)[C@@H](CO)O[C@H]1O']\n",
      "Numero di zuccheri: 0    1\n",
      "Name: nSugars, dtype: int64\n"
     ]
    }
   ],
   "source": [
    "from rdkit import Chem\n",
    "from mordred import Calculator, descriptors\n",
    "from mordred.RingCount import RingCount\n",
    "from molvs import standardize_smiles\n",
    "from Macrocycle_desc import *\n",
    "\n",
    "# Esempio di utilizzo\n",
    "output_filename = \"mordred_descriptors.csv\"\n",
    "smiles_list = [\"O=C(N[C@@H]1[C@@H](O)[C@H](O)[C@H](O[C@H]1O)CO)C\"]\n",
    "std_smiles = [standardize_smiles(i) for i in smiles_list]\n",
    "print(f\"SMILES standardizzato: {std_smiles}\")\n",
    "mrc_descriptor = Macrocycle_Descriptors(std_smiles)\n",
    "## Compute mordred descriptors and export CSV file.\n",
    "# mrc_descriptor.mordred_compute(output_filename) \n",
    "\n",
    "## Compute mordred_mrc descriptors and export CSV file.   \n",
    "# mrc_descriptor.compute_mordred_macrocycle(output_filename)\n",
    "\n",
    "# Calcolo dei descrittori\n",
    "df = mrc_descriptor.sugar_count()\n",
    "sugar = df['nSugars']\n",
    "\n",
    "\n",
    "print(f\"Numero di zuccheri: {sugar}\")\n",
    "\n"
   ]
  },
  {
   "cell_type": "code",
   "execution_count": 5,
   "metadata": {},
   "outputs": [],
   "source": [
    "#leggi il file .xlsx con pandas e crea un dataframe\n",
    "df = pd.read_excel('data/TC_MC_2_db.xlsx')\n",
    "\n",
    "#prendi gli elementi della colonna sdf e per ciascun crea un file nominandolo con il CID relativo alla entry e sdf come estensione\n",
    "for i in range(len(df)):\n",
    "    with open(f'data/sdf/{df[\"ID\"][i]}.sdf', 'w') as f:\n",
    "        f.write(df['SDF'][i])\n",
    "\n",
    "\n",
    "#crea una lista di oggetti Molecule con le colonne SDF del dataframe\n",
    "#usa Chem.SDMolSupplier\n",
    "# mols = [mol for mol in Chem.SDMolSupplier(str(df['SDF'].values[0]))]\n",
    "\n",
    "# mols = [Chem.MolFromMolBlock(mol) for mol in df['SDF']]"
   ]
  },
  {
   "cell_type": "code",
   "execution_count": 17,
   "metadata": {},
   "outputs": [
    {
     "name": "stderr",
     "output_type": "stream",
     "text": [
      "[17:17:31] Warning: ambiguous stereochemistry - opposing bonds have opposite wedging - at atom 3 ignored.\n",
      "[17:17:31] Warning: ambiguous stereochemistry - opposing bonds have opposite wedging - at atom 3 ignored.\n",
      "[17:17:31] Warning: ambiguous stereochemistry - opposing bonds have opposite wedging - at atom 3 ignored.\n",
      "[17:17:31] Warning: ambiguous stereochemistry - opposing bonds have opposite wedging - at atom 3 ignored.\n",
      "[17:17:31] Warning: ambiguous stereochemistry - opposing bonds have opposite wedging - at atom 18 ignored.\n",
      "[17:17:31] Warning: ambiguous stereochemistry - opposing bonds have opposite wedging - at atom 18 ignored.\n",
      "[17:17:33] Explicit valence for atom # 1 C, 5, is greater than permitted\n",
      "[17:17:33] ERROR: Could not sanitize molecule ending on line 57\n",
      "[17:17:33] ERROR: Explicit valence for atom # 1 C, 5, is greater than permitted\n",
      "[17:17:33] Warning: ambiguous stereochemistry - opposing bonds have opposite wedging - at atom 0 ignored.\n",
      "[17:17:33] Warning: ambiguous stereochemistry - opposing bonds have opposite wedging - at atom 0 ignored.\n",
      "[17:17:33] MRV_IMPLICIT_H SGroup on atom without aromatic bonds, 4, ignored.\n"
     ]
    },
    {
     "name": "stdout",
     "output_type": "stream",
     "text": [
      "Errore nella molecola 38097\n",
      "SMILES: COc1c(O)cc2O\\C(=C3\\CC=CC=C3)[C](=O)(OC)[C](O)(=O)c2c1O\n",
      "i: 4775\n"
     ]
    },
    {
     "name": "stderr",
     "output_type": "stream",
     "text": [
      "[17:17:34] Warning: conflicting stereochemistry - bond wedging contradiction - at atom 15 ignored\n",
      "[17:17:34] Warning: conflicting stereochemistry - bond wedging contradiction - at atom 15 ignored\n",
      "[17:17:34] Warning: ambiguous stereochemistry - opposing bonds have opposite wedging - at atom 4 ignored.\n",
      "[17:17:34] Warning: ambiguous stereochemistry - opposing bonds have opposite wedging - at atom 4 ignored.\n",
      "[17:17:36] Warning: ambiguous stereochemistry - opposing bonds have opposite wedging - at atom 3 ignored.\n",
      "[17:17:36] Warning: ambiguous stereochemistry - opposing bonds have opposite wedging - at atom 3 ignored.\n",
      "[17:17:36] Warning: ambiguous stereochemistry - opposing bonds have opposite wedging - at atom 7 ignored.\n",
      "[17:17:36] Warning: ambiguous stereochemistry - opposing bonds have opposite wedging - at atom 7 ignored.\n",
      "[17:17:36] Warning: ambiguous stereochemistry - opposing bonds have opposite wedging - at atom 7 ignored.\n",
      "[17:17:36] Warning: ambiguous stereochemistry - opposing bonds have opposite wedging - at atom 7 ignored.\n",
      "[17:17:39] Warning: ambiguous stereochemistry - opposing bonds have opposite wedging - at atom 10 ignored.\n",
      "[17:17:39] Warning: ambiguous stereochemistry - opposing bonds have opposite wedging - at atom 10 ignored.\n",
      "[17:17:40] Explicit valence for atom # 4 N, 4, is greater than permitted\n",
      "[17:17:40] ERROR: Could not sanitize molecule ending on line 49\n",
      "[17:17:40] ERROR: Explicit valence for atom # 4 N, 4, is greater than permitted\n",
      "[17:17:40] Explicit valence for atom # 10 N, 5, is greater than permitted\n",
      "[17:17:40] ERROR: Could not sanitize molecule ending on line 37\n",
      "[17:17:40] ERROR: Explicit valence for atom # 10 N, 5, is greater than permitted\n"
     ]
    },
    {
     "name": "stdout",
     "output_type": "stream",
     "text": [
      "Errore nella molecola 300196\n",
      "SMILES: CNCCCN1C2CC=CC=C2NN(=O)c2ccccc12\n",
      "i: 15585\n",
      "Errore nella molecola 300646\n",
      "SMILES: CS[N](=C)(SC)N(C(C)=O)c1ccccc1\n",
      "i: 15957\n"
     ]
    },
    {
     "name": "stderr",
     "output_type": "stream",
     "text": [
      "[17:17:40] Warning: conflicting stereochemistry - bond wedging contradiction - at atom 15 ignored\n",
      "[17:17:40] Warning: conflicting stereochemistry - bond wedging contradiction - at atom 15 ignored\n",
      "[17:17:40] Warning: conflicting stereochemistry - bond wedging contradiction - at atom 15 ignored\n",
      "[17:17:40] Warning: conflicting stereochemistry - bond wedging contradiction - at atom 15 ignored\n",
      "[17:17:41] Warning: ambiguous stereochemistry - opposing bonds have opposite wedging - at atom 4 ignored.\n",
      "[17:17:41] Warning: ambiguous stereochemistry - opposing bonds have opposite wedging - at atom 4 ignored.\n",
      "[17:17:41] Warning: ambiguous stereochemistry - opposing bonds have opposite wedging - at atom 4 ignored.\n",
      "[17:17:41] Warning: ambiguous stereochemistry - opposing bonds have opposite wedging - at atom 4 ignored.\n",
      "[17:17:41] Warning: ambiguous stereochemistry - opposing bonds have opposite wedging - at atom 4 ignored.\n",
      "[17:17:41] Warning: ambiguous stereochemistry - opposing bonds have opposite wedging - at atom 4 ignored.\n",
      "[17:17:41] Warning: ambiguous stereochemistry - opposing bonds have opposite wedging - at atom 4 ignored.\n",
      "[17:17:41] Warning: ambiguous stereochemistry - opposing bonds have opposite wedging - at atom 4 ignored.\n",
      "[17:17:41] Warning: ambiguous stereochemistry - opposing bonds have opposite wedging - at atom 7 ignored.\n",
      "[17:17:41] Warning: ambiguous stereochemistry - opposing bonds have opposite wedging - at atom 7 ignored.\n",
      "[17:17:41] Warning: ambiguous stereochemistry - opposing bonds have opposite wedging - at atom 7 ignored.\n",
      "[17:17:41] Warning: ambiguous stereochemistry - opposing bonds have opposite wedging - at atom 7 ignored.\n",
      "[17:17:41] Warning: ambiguous stereochemistry - opposing bonds have opposite wedging - at atom 7 ignored.\n",
      "[17:17:41] Warning: ambiguous stereochemistry - opposing bonds have opposite wedging - at atom 7 ignored.\n",
      "[17:17:41] Warning: ambiguous stereochemistry - opposing bonds have opposite wedging - at atom 7 ignored.\n",
      "[17:17:41] Warning: ambiguous stereochemistry - opposing bonds have opposite wedging - at atom 7 ignored.\n",
      "[17:17:42] Warning: ambiguous stereochemistry - opposing bonds have opposite wedging - at atom 0 ignored.\n",
      "[17:17:42] Warning: ambiguous stereochemistry - opposing bonds have opposite wedging - at atom 0 ignored.\n",
      "[17:17:42] Warning: ambiguous stereochemistry - opposing bonds have opposite wedging - at atom 0 ignored.\n",
      "[17:17:42] Warning: ambiguous stereochemistry - opposing bonds have opposite wedging - at atom 0 ignored.\n",
      "[17:17:42] Warning: ambiguous stereochemistry - opposing bonds have opposite wedging - at atom 0 ignored.\n",
      "[17:17:42] Warning: ambiguous stereochemistry - opposing bonds have opposite wedging - at atom 0 ignored.\n",
      "[17:17:42] Warning: ambiguous stereochemistry - opposing bonds have opposite wedging - at atom 0 ignored.\n",
      "[17:17:42] Warning: ambiguous stereochemistry - opposing bonds have opposite wedging - at atom 0 ignored.\n",
      "[17:17:42] Warning: ambiguous stereochemistry - opposing bonds have opposite wedging - at atom 0 ignored.\n",
      "[17:17:42] Warning: ambiguous stereochemistry - opposing bonds have opposite wedging - at atom 0 ignored.\n",
      "[17:17:42] Warning: ambiguous stereochemistry - opposing bonds have opposite wedging - at atom 0 ignored.\n",
      "[17:17:42] Warning: ambiguous stereochemistry - opposing bonds have opposite wedging - at atom 0 ignored.\n",
      "[17:17:42] Warning: ambiguous stereochemistry - opposing bonds have opposite wedging - at atom 0 ignored.\n",
      "[17:17:42] Warning: ambiguous stereochemistry - opposing bonds have opposite wedging - at atom 0 ignored.\n"
     ]
    },
    {
     "name": "stdout",
     "output_type": "stream",
     "text": [
      "Numero di molecole con gruppi zuccheri: 5769\n",
      "Numero totale di molecole: 21152\n"
     ]
    },
    {
     "name": "stderr",
     "output_type": "stream",
     "text": [
      "[17:17:44] Warning: conflicting stereochemistry - bond wedging contradiction - at atom 15 ignored\n",
      "[17:17:44] Warning: conflicting stereochemistry - bond wedging contradiction - at atom 15 ignored\n"
     ]
    }
   ],
   "source": [
    "# importa mol sdf file uno ad uno dalla cartella data/sdf\n",
    "#crea un SDMolSupplier per ogni file sdf\n",
    "#per ogni molecola calcola il numero di gruppi glucosio e stampa il risultato\n",
    "num_glucose_mol = 0\n",
    "for i in range(len(df)):\n",
    "    suppl = Chem.SDMolSupplier(f'data/sdf/{df[\"ID\"][i]}.sdf')\n",
    "    for mol in suppl:\n",
    "        try:\n",
    "            num_glucose_groups = count_glucose_groups(mol)\n",
    "        except:\n",
    "            print(f\"Errore nella molecola {df['ID'][i]}\")\n",
    "            print(f\"SMILES: {df['SMILES'][i]}\")\n",
    "            print(f\"i: {i}\")\n",
    "            \n",
    "            continue\n",
    "        if num_glucose_groups > 0:\n",
    "            num_glucose_mol += 1\n",
    "\n",
    "        smiles = Chem.MolToSmiles(mol)\n",
    "        #print(f\"Numero di gruppi glucosio: {num_glucose_groups}\")\n",
    "        #print(f\"SMILES: {smiles}\")\n",
    "\n",
    "print(f\"Numero di molecole con gruppi zuccheri: {num_glucose_mol}\")\n",
    "print(f\"Numero totale di molecole: {i}\")\n",
    "\n",
    "\n",
    "# suppl = Chem.SDMolSupplier('1.sdf')\n",
    "# for mol in suppl:\n",
    "#     num_glucose_groups = count_glucose_groups(mol)\n",
    "#     smiles = Chem.MolToSmiles(mol)\n",
    "#     print(f\"Numero di gruppi glucosio: {num_glucose_groups}\")\n",
    "#     print(f\"SMILES: {smiles}\")\n",
    "#     img = Draw.MolToImage(mol)\n",
    "\n",
    "# mol\n",
    "\n"
   ]
  }
 ],
 "metadata": {
  "kernelspec": {
   "display_name": "environment2",
   "language": "python",
   "name": "python3"
  },
  "language_info": {
   "codemirror_mode": {
    "name": "ipython",
    "version": 3
   },
   "file_extension": ".py",
   "mimetype": "text/x-python",
   "name": "python",
   "nbconvert_exporter": "python",
   "pygments_lexer": "ipython3",
   "version": "3.12.2"
  }
 },
 "nbformat": 4,
 "nbformat_minor": 2
}
