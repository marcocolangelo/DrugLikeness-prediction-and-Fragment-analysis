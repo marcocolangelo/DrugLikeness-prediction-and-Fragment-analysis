{
 "cells": [
  {
   "cell_type": "code",
   "execution_count": 5,
   "metadata": {},
   "outputs": [],
   "source": [
    "# import pandas as pd\n",
    "# from sklearn.model_selection import train_test_split\n",
    "\n",
    "# # Caricamento del dataset da un file CSV\n",
    "# # Modifica 'path_to_your_file.csv' con il percorso del tuo file\n",
    "# df = pd.read_csv('..\\\\data\\\\alternatives\\\\balanced_test.csv')\n",
    "\n",
    "# # Supponendo che la colonna delle label si chiami 'label'\n",
    "# # e che tutte le altre colonne siano feature\n",
    "# X = df.drop(columns=['Drug'])  # Features\n",
    "# y = df['Drug']  # Labels\n",
    "\n",
    "# # Rinominare le colonne di X e y per il formato richiesto\n",
    "# X.columns = [\"ZINCID\",\"smiles\"]\n",
    "# y.name = 'Drug'\n",
    "\n",
    "# # Unire X e y in un unico DataFrame\n",
    "# df_combined = pd.concat([X, y], axis=1)\n",
    "\n",
    "\n",
    "# # Dividi il 20% rimanente in 10% per validazione e 10% per test\n",
    "# df_val, df_test = train_test_split(df_combined, test_size=0.5, random_state=42)\n",
    "\n",
    "# # Salvataggio dei set suddivisi in file CSV separati\n",
    "# df_val.to_csv('..\\\\data\\\\alternatives\\\\validation_set.csv', index=False, header=[\"ZINCID\",\"smiles\", 'Drug'])\n",
    "# df_test.to_csv('..\\\\data\\\\alternatives\\\\test_set.csv', index=False, header=[\"ZINCID\",\"smiles\", 'Drug'])"
   ]
  },
  {
   "cell_type": "code",
   "execution_count": 1,
   "metadata": {},
   "outputs": [],
   "source": [
    "import pandas as pd\n",
    "from sklearn.model_selection import train_test_split\n",
    "\n",
    "# Caricamento del dataset da un file CSV\n",
    "df = pd.read_csv('..\\\\new2\\\\new2_ZINC_balanced_smiles_output.csv')\n",
    "\n",
    "# Supponendo che la colonna delle label si chiami 'Drug'\n",
    "# e che tutte le altre colonne siano feature\n",
    "X = df.drop(columns=['Drug'])  # Features\n",
    "y = df['Drug']  # Labels\n",
    "\n",
    "# Rinominare le colonne di X e y per il formato richiesto\n",
    "X.columns = [\"ZINCID\",\"smiles\"]\n",
    "y.name = 'Drug'\n",
    "\n",
    "# Unire X e y in un unico DataFrame\n",
    "df_combined = pd.concat([X, y], axis=1)\n",
    "\n",
    "# Dividi il dataset in 80% per il training e 20% per validazione + test\n",
    "df_train_full, df_temp = train_test_split(df_combined, test_size=0.2, random_state=42, stratify=df_combined['Drug'])\n",
    "\n",
    "# Dividi il 20% rimanente in 10% per validazione e 10% per test\n",
    "df_val, df_test = train_test_split(df_temp, test_size=0.5, random_state=42, stratify=df_temp['Drug'])\n",
    "\n",
    "# Salvataggio dei set suddivisi in file CSV separati\n",
    "df_train_full.to_csv('..\\\\new2\\\\new2_ZINC_final_balanced_train_set.csv', index=False, header=[\"ZINCID\",\"smiles\", 'Drug'])\n",
    "df_val.to_csv('..\\\\new2\\\\new2_ZINC_final_balanced_validation_set.csv', index=False, header=[\"ZINCID\",\"smiles\", 'Drug'])\n",
    "df_test.to_csv('..\\\\new2\\\\new2_ZINC_final_balanced_test_set.csv', index=False, header=[\"ZINCID\",\"smiles\", 'Drug'])\n"
   ]
  },
  {
   "cell_type": "code",
   "execution_count": 6,
   "metadata": {
    "vscode": {
     "languageId": "ruby"
    }
   },
   "outputs": [
    {
     "name": "stdout",
     "output_type": "stream",
     "text": [
      "Number of elements with Drug 0: 103325\n",
      "Number of elements with Drug 1: 103501\n"
     ]
    }
   ],
   "source": [
    "import pandas as pd\n",
    "\n",
    "# Read the input file\n",
    "df_input = pd.read_csv('..\\\\new2\\\\new2_ZINC_final_balanced_train_set.csv')\n",
    "\n",
    "# Count the number of elements with Drug 0 and Drug 1\n",
    "count_drug_0 = df_input[df_input['Drug'] == 0].shape[0]\n",
    "count_drug_1 = df_input[df_input['Drug'] == 1].shape[0]\n",
    "\n",
    "# Print the counts\n",
    "print(\"Number of elements with Drug 0:\", count_drug_0)\n",
    "print(\"Number of elements with Drug 1:\", count_drug_1)"
   ]
  },
  {
   "cell_type": "code",
   "execution_count": 7,
   "metadata": {},
   "outputs": [
    {
     "name": "stdout",
     "output_type": "stream",
     "text": [
      "55581\n"
     ]
    }
   ],
   "source": [
    "import pandas as pd\n",
    "\n",
    "# Read the first CSV file\n",
    "df1 = pd.read_csv('..\\\\in_vitro_extracted_zinc_ids_new.csv')\n",
    "\n",
    "# Read the second CSV file\n",
    "df2 = pd.read_csv('..\\\\in_vivo_extracted_zinc_ids_new.csv')\n",
    "\n",
    "# Extract the common elements\n",
    "common_elements = pd.merge(df1, df2, how='inner')\n",
    "\n",
    "# Print the common elements\n",
    "print(len(common_elements))\n",
    "\n",
    "# Remove common elements from df1\n",
    "df1 = df1[~df1['ZINC ID'].isin(common_elements['ZINC ID'])]\n",
    "\n",
    "# save df1 to a CSV file\n",
    "df1.to_csv('../new2/without_common_in_vitro_extracted_zinc_ids_new.csv', index=False)\n",
    "\n",
    "# Save common_elements to a CSV file\n",
    "common_elements.to_csv('../new2/common_elements.csv', index=False)"
   ]
  }
 ],
 "metadata": {
  "kernelspec": {
   "display_name": "trial_arch",
   "language": "python",
   "name": "python3"
  },
  "language_info": {
   "codemirror_mode": {
    "name": "ipython",
    "version": 3
   },
   "file_extension": ".py",
   "mimetype": "text/x-python",
   "name": "python",
   "nbconvert_exporter": "python",
   "pygments_lexer": "ipython3",
   "version": "3.8.19"
  }
 },
 "nbformat": 4,
 "nbformat_minor": 2
}
